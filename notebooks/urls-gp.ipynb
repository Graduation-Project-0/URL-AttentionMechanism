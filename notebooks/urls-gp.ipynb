{
 "cells": [
  {
   "cell_type": "code",
   "execution_count": 1,
   "metadata": {
    "execution": {
     "iopub.execute_input": "2025-10-22T16:04:30.709004Z",
     "iopub.status.busy": "2025-10-22T16:04:30.708805Z",
     "iopub.status.idle": "2025-10-22T16:04:36.334851Z",
     "shell.execute_reply": "2025-10-22T16:04:36.334174Z",
     "shell.execute_reply.started": "2025-10-22T16:04:30.708987Z"
    },
    "id": "ebq5Yt1Bw31I",
    "trusted": true
   },
   "outputs": [],
   "source": [
    "import torch\n",
    "import torch.nn as nn\n",
    "import torch.optim as optim\n",
    "import torch.nn.functional as F\n",
    "from torch.utils.data import TensorDataset, DataLoader\n",
    "\n",
    "from sklearn.model_selection import train_test_split\n",
    "from sklearn.preprocessing import StandardScaler, LabelEncoder\n",
    "from sklearn.metrics import accuracy_score, classification_report, confusion_matrix, roc_auc_score\n",
    "from sklearn.utils.class_weight import compute_class_weight\n",
    "from sklearn.utils import resample\n",
    "\n",
    "import numpy as np\n",
    "import pandas as pd\n",
    "import matplotlib.pyplot as plt\n",
    "import seaborn as sns\n",
    "import pickle\n",
    "import joblib\n",
    "from datetime import datetime"
   ]
  },
  {
   "cell_type": "code",
   "execution_count": 2,
   "metadata": {
    "execution": {
     "iopub.execute_input": "2025-10-22T16:04:40.240357Z",
     "iopub.status.busy": "2025-10-22T16:04:40.240081Z",
     "iopub.status.idle": "2025-10-22T16:04:40.348274Z",
     "shell.execute_reply": "2025-10-22T16:04:40.347409Z",
     "shell.execute_reply.started": "2025-10-22T16:04:40.240337Z"
    },
    "id": "rrUll3zSSNjl",
    "trusted": true
   },
   "outputs": [],
   "source": [
    "class Config:\n",
    "    DATA_PATH = r\"/kaggle/input/tabular-dataset-ready-for-malicious-url-detection/train_dataset.csv\"\n",
    "    BATCH_SIZE = 1024\n",
    "    NUM_EPOCHS = 100\n",
    "    LEARNING_RATE = 0.001\n",
    "    WEIGHT_DECAY = 0.01\n",
    "    PATIENCE = 50\n",
    "    TEST_SIZE = 0.15\n",
    "    VAL_SIZE = 0.15\n",
    "    USE_CLASS_WEIGHTS = False\n",
    "    DEVICE = 'cuda' if torch.cuda.is_available() else 'cpu'\n",
    "\n",
    "config = Config()"
   ]
  },
  {
   "cell_type": "code",
   "execution_count": 3,
   "metadata": {
    "colab": {
     "base_uri": "https://localhost:8080/",
     "height": 255
    },
    "execution": {
     "iopub.execute_input": "2025-10-22T16:04:42.881052Z",
     "iopub.status.busy": "2025-10-22T16:04:42.880772Z",
     "iopub.status.idle": "2025-10-22T16:05:41.245854Z",
     "shell.execute_reply": "2025-10-22T16:05:41.245181Z",
     "shell.execute_reply.started": "2025-10-22T16:04:42.881033Z"
    },
    "id": "YCj5Vfq8SZ8y",
    "outputId": "49292448-6bbe-4ea7-cd3c-5d20d6c560ba",
    "trusted": true
   },
   "outputs": [
    {
     "data": {
      "text/html": [
       "<div>\n",
       "<style scoped>\n",
       "    .dataframe tbody tr th:only-of-type {\n",
       "        vertical-align: middle;\n",
       "    }\n",
       "\n",
       "    .dataframe tbody tr th {\n",
       "        vertical-align: top;\n",
       "    }\n",
       "\n",
       "    .dataframe thead th {\n",
       "        text-align: right;\n",
       "    }\n",
       "</style>\n",
       "<table border=\"1\" class=\"dataframe\">\n",
       "  <thead>\n",
       "    <tr style=\"text-align: right;\">\n",
       "      <th></th>\n",
       "      <th>url</th>\n",
       "      <th>label</th>\n",
       "      <th>source</th>\n",
       "      <th>url_has_login</th>\n",
       "      <th>url_has_client</th>\n",
       "      <th>url_has_server</th>\n",
       "      <th>url_has_admin</th>\n",
       "      <th>url_has_ip</th>\n",
       "      <th>url_isshorted</th>\n",
       "      <th>url_len</th>\n",
       "      <th>...</th>\n",
       "      <th>pdomain_count_hyphen</th>\n",
       "      <th>pdomain_count_atrate</th>\n",
       "      <th>pdomain_count_non_alphanum</th>\n",
       "      <th>pdomain_count_digit</th>\n",
       "      <th>tld_len</th>\n",
       "      <th>tld</th>\n",
       "      <th>tld_is_sus</th>\n",
       "      <th>pdomain_min_distance</th>\n",
       "      <th>subdomain_len</th>\n",
       "      <th>subdomain_count_dot</th>\n",
       "    </tr>\n",
       "  </thead>\n",
       "  <tbody>\n",
       "    <tr>\n",
       "      <th>0</th>\n",
       "      <td>irs-profilepaymentservice.com/home</td>\n",
       "      <td>1</td>\n",
       "      <td>phishtank</td>\n",
       "      <td>0</td>\n",
       "      <td>0</td>\n",
       "      <td>0</td>\n",
       "      <td>0</td>\n",
       "      <td>0</td>\n",
       "      <td>0</td>\n",
       "      <td>34</td>\n",
       "      <td>...</td>\n",
       "      <td>0</td>\n",
       "      <td>0</td>\n",
       "      <td>0</td>\n",
       "      <td>0</td>\n",
       "      <td>3</td>\n",
       "      <td>com</td>\n",
       "      <td>0</td>\n",
       "      <td>17</td>\n",
       "      <td>0</td>\n",
       "      <td>0</td>\n",
       "    </tr>\n",
       "    <tr>\n",
       "      <th>1</th>\n",
       "      <td>cpuggsukabumi.id</td>\n",
       "      <td>0</td>\n",
       "      <td>majestic_million</td>\n",
       "      <td>0</td>\n",
       "      <td>0</td>\n",
       "      <td>0</td>\n",
       "      <td>0</td>\n",
       "      <td>0</td>\n",
       "      <td>0</td>\n",
       "      <td>16</td>\n",
       "      <td>...</td>\n",
       "      <td>0</td>\n",
       "      <td>0</td>\n",
       "      <td>0</td>\n",
       "      <td>0</td>\n",
       "      <td>2</td>\n",
       "      <td>id</td>\n",
       "      <td>1</td>\n",
       "      <td>10</td>\n",
       "      <td>0</td>\n",
       "      <td>0</td>\n",
       "    </tr>\n",
       "    <tr>\n",
       "      <th>2</th>\n",
       "      <td>members.tripod.com/~don_rc/ring.htm</td>\n",
       "      <td>0</td>\n",
       "      <td>data_clean_test_mendel</td>\n",
       "      <td>0</td>\n",
       "      <td>0</td>\n",
       "      <td>0</td>\n",
       "      <td>0</td>\n",
       "      <td>0</td>\n",
       "      <td>0</td>\n",
       "      <td>35</td>\n",
       "      <td>...</td>\n",
       "      <td>0</td>\n",
       "      <td>0</td>\n",
       "      <td>0</td>\n",
       "      <td>0</td>\n",
       "      <td>3</td>\n",
       "      <td>com</td>\n",
       "      <td>0</td>\n",
       "      <td>2</td>\n",
       "      <td>7</td>\n",
       "      <td>0</td>\n",
       "    </tr>\n",
       "    <tr>\n",
       "      <th>3</th>\n",
       "      <td>optuswebmailadminprovider.weebly.com/</td>\n",
       "      <td>1</td>\n",
       "      <td>phishtank</td>\n",
       "      <td>0</td>\n",
       "      <td>0</td>\n",
       "      <td>0</td>\n",
       "      <td>1</td>\n",
       "      <td>0</td>\n",
       "      <td>0</td>\n",
       "      <td>37</td>\n",
       "      <td>...</td>\n",
       "      <td>0</td>\n",
       "      <td>0</td>\n",
       "      <td>0</td>\n",
       "      <td>0</td>\n",
       "      <td>3</td>\n",
       "      <td>com</td>\n",
       "      <td>0</td>\n",
       "      <td>3</td>\n",
       "      <td>25</td>\n",
       "      <td>0</td>\n",
       "    </tr>\n",
       "    <tr>\n",
       "      <th>4</th>\n",
       "      <td>topoz.com.pl</td>\n",
       "      <td>0</td>\n",
       "      <td>dmoz_harvard</td>\n",
       "      <td>0</td>\n",
       "      <td>0</td>\n",
       "      <td>0</td>\n",
       "      <td>0</td>\n",
       "      <td>0</td>\n",
       "      <td>0</td>\n",
       "      <td>12</td>\n",
       "      <td>...</td>\n",
       "      <td>0</td>\n",
       "      <td>0</td>\n",
       "      <td>0</td>\n",
       "      <td>0</td>\n",
       "      <td>6</td>\n",
       "      <td>com.pl</td>\n",
       "      <td>0</td>\n",
       "      <td>3</td>\n",
       "      <td>0</td>\n",
       "      <td>0</td>\n",
       "    </tr>\n",
       "  </tbody>\n",
       "</table>\n",
       "<p>5 rows × 60 columns</p>\n",
       "</div>"
      ],
      "text/plain": [
       "                                     url  label                  source  \\\n",
       "0     irs-profilepaymentservice.com/home      1               phishtank   \n",
       "1                       cpuggsukabumi.id      0        majestic_million   \n",
       "2    members.tripod.com/~don_rc/ring.htm      0  data_clean_test_mendel   \n",
       "3  optuswebmailadminprovider.weebly.com/      1               phishtank   \n",
       "4                           topoz.com.pl      0            dmoz_harvard   \n",
       "\n",
       "   url_has_login  url_has_client  url_has_server  url_has_admin  url_has_ip  \\\n",
       "0              0               0               0              0           0   \n",
       "1              0               0               0              0           0   \n",
       "2              0               0               0              0           0   \n",
       "3              0               0               0              1           0   \n",
       "4              0               0               0              0           0   \n",
       "\n",
       "   url_isshorted  url_len  ...  pdomain_count_hyphen  pdomain_count_atrate  \\\n",
       "0              0       34  ...                     0                     0   \n",
       "1              0       16  ...                     0                     0   \n",
       "2              0       35  ...                     0                     0   \n",
       "3              0       37  ...                     0                     0   \n",
       "4              0       12  ...                     0                     0   \n",
       "\n",
       "   pdomain_count_non_alphanum  pdomain_count_digit  tld_len     tld  \\\n",
       "0                           0                    0        3     com   \n",
       "1                           0                    0        2      id   \n",
       "2                           0                    0        3     com   \n",
       "3                           0                    0        3     com   \n",
       "4                           0                    0        6  com.pl   \n",
       "\n",
       "   tld_is_sus  pdomain_min_distance  subdomain_len  subdomain_count_dot  \n",
       "0           0                    17              0                    0  \n",
       "1           1                    10              0                    0  \n",
       "2           0                     2              7                    0  \n",
       "3           0                     3             25                    0  \n",
       "4           0                     3              0                    0  \n",
       "\n",
       "[5 rows x 60 columns]"
      ]
     },
     "metadata": {},
     "output_type": "display_data"
    }
   ],
   "source": [
    "df = pd.read_csv(config.DATA_PATH)\n",
    "display(df.head())"
   ]
  },
  {
   "cell_type": "code",
   "execution_count": 4,
   "metadata": {
    "colab": {
     "base_uri": "https://localhost:8080/"
    },
    "execution": {
     "iopub.execute_input": "2025-10-22T16:06:36.181910Z",
     "iopub.status.busy": "2025-10-22T16:06:36.181197Z",
     "iopub.status.idle": "2025-10-22T16:06:36.189006Z",
     "shell.execute_reply": "2025-10-22T16:06:36.188160Z",
     "shell.execute_reply.started": "2025-10-22T16:06:36.181881Z"
    },
    "id": "neov3MRISbtL",
    "outputId": "052858ce-cac6-44bf-8a60-467f98117ebb",
    "trusted": true
   },
   "outputs": [
    {
     "data": {
      "text/plain": [
       "Index(['url', 'label', 'source', 'url_has_login', 'url_has_client',\n",
       "       'url_has_server', 'url_has_admin', 'url_has_ip', 'url_isshorted',\n",
       "       'url_len', 'url_entropy', 'url_hamming_1', 'url_hamming_00',\n",
       "       'url_hamming_10', 'url_hamming_01', 'url_hamming_11', 'url_2bentropy',\n",
       "       'url_3bentropy', 'url_count_dot', 'url_count_https', 'url_count_http',\n",
       "       'url_count_perc', 'url_count_hyphen', 'url_count_www',\n",
       "       'url_count_atrate', 'url_count_hash', 'url_count_semicolon',\n",
       "       'url_count_underscore', 'url_count_ques', 'url_count_equal',\n",
       "       'url_count_amp', 'url_count_letter', 'url_count_digit',\n",
       "       'url_count_sensitive_financial_words', 'url_count_sensitive_words',\n",
       "       'url_nunique_chars_ratio', 'path_len', 'path_count_no_of_dir',\n",
       "       'path_count_no_of_embed', 'path_count_zero', 'path_count_pertwent',\n",
       "       'path_has_any_sensitive_words', 'path_count_lower', 'path_count_upper',\n",
       "       'path_count_nonascii', 'path_has_singlechardir', 'path_has_upperdir',\n",
       "       'query_len', 'query_count_components', 'pdomain_len',\n",
       "       'pdomain_count_hyphen', 'pdomain_count_atrate',\n",
       "       'pdomain_count_non_alphanum', 'pdomain_count_digit', 'tld_len', 'tld',\n",
       "       'tld_is_sus', 'pdomain_min_distance', 'subdomain_len',\n",
       "       'subdomain_count_dot'],\n",
       "      dtype='object')"
      ]
     },
     "execution_count": 4,
     "metadata": {},
     "output_type": "execute_result"
    }
   ],
   "source": [
    "df.columns"
   ]
  },
  {
   "cell_type": "code",
   "execution_count": 5,
   "metadata": {
    "colab": {
     "base_uri": "https://localhost:8080/",
     "height": 178
    },
    "execution": {
     "iopub.execute_input": "2025-10-22T16:06:52.102626Z",
     "iopub.status.busy": "2025-10-22T16:06:52.102336Z",
     "iopub.status.idle": "2025-10-22T16:06:52.147223Z",
     "shell.execute_reply": "2025-10-22T16:06:52.146426Z",
     "shell.execute_reply.started": "2025-10-22T16:06:52.102605Z"
    },
    "id": "6gQsiYbjxCNr",
    "outputId": "e2399b4d-e54e-470a-eb1f-aab5f1bf678b",
    "trusted": true
   },
   "outputs": [
    {
     "data": {
      "text/plain": [
       "label\n",
       "0    5283175\n",
       "1    1445673\n",
       "Name: count, dtype: int64"
      ]
     },
     "execution_count": 5,
     "metadata": {},
     "output_type": "execute_result"
    }
   ],
   "source": [
    "df['label'].value_counts()"
   ]
  },
  {
   "cell_type": "code",
   "execution_count": 6,
   "metadata": {
    "execution": {
     "iopub.execute_input": "2025-10-22T16:06:54.133662Z",
     "iopub.status.busy": "2025-10-22T16:06:54.133192Z",
     "iopub.status.idle": "2025-10-22T16:06:55.163310Z",
     "shell.execute_reply": "2025-10-22T16:06:55.162676Z",
     "shell.execute_reply.started": "2025-10-22T16:06:54.133637Z"
    },
    "id": "-pc6AENJSn0e",
    "trusted": true
   },
   "outputs": [],
   "source": [
    "X = df.drop(columns=['label', 'url', 'source', 'tld'])\n",
    "y = df['label']"
   ]
  },
  {
   "cell_type": "code",
   "execution_count": 7,
   "metadata": {
    "colab": {
     "base_uri": "https://localhost:8080/"
    },
    "execution": {
     "iopub.execute_input": "2025-10-22T16:06:56.857807Z",
     "iopub.status.busy": "2025-10-22T16:06:56.857185Z",
     "iopub.status.idle": "2025-10-22T16:06:56.862834Z",
     "shell.execute_reply": "2025-10-22T16:06:56.862119Z",
     "shell.execute_reply.started": "2025-10-22T16:06:56.857782Z"
    },
    "id": "g3eEi0GlTiG-",
    "outputId": "fa476789-d3ac-4d2d-c3ef-8cde3f7b40b3",
    "trusted": true
   },
   "outputs": [
    {
     "data": {
      "text/plain": [
       "Index(['url_has_login', 'url_has_client', 'url_has_server', 'url_has_admin',\n",
       "       'url_has_ip', 'url_isshorted', 'url_len', 'url_entropy',\n",
       "       'url_hamming_1', 'url_hamming_00', 'url_hamming_10', 'url_hamming_01',\n",
       "       'url_hamming_11', 'url_2bentropy', 'url_3bentropy', 'url_count_dot',\n",
       "       'url_count_https', 'url_count_http', 'url_count_perc',\n",
       "       'url_count_hyphen', 'url_count_www', 'url_count_atrate',\n",
       "       'url_count_hash', 'url_count_semicolon', 'url_count_underscore',\n",
       "       'url_count_ques', 'url_count_equal', 'url_count_amp',\n",
       "       'url_count_letter', 'url_count_digit',\n",
       "       'url_count_sensitive_financial_words', 'url_count_sensitive_words',\n",
       "       'url_nunique_chars_ratio', 'path_len', 'path_count_no_of_dir',\n",
       "       'path_count_no_of_embed', 'path_count_zero', 'path_count_pertwent',\n",
       "       'path_has_any_sensitive_words', 'path_count_lower', 'path_count_upper',\n",
       "       'path_count_nonascii', 'path_has_singlechardir', 'path_has_upperdir',\n",
       "       'query_len', 'query_count_components', 'pdomain_len',\n",
       "       'pdomain_count_hyphen', 'pdomain_count_atrate',\n",
       "       'pdomain_count_non_alphanum', 'pdomain_count_digit', 'tld_len',\n",
       "       'tld_is_sus', 'pdomain_min_distance', 'subdomain_len',\n",
       "       'subdomain_count_dot'],\n",
       "      dtype='object')"
      ]
     },
     "execution_count": 7,
     "metadata": {},
     "output_type": "execute_result"
    }
   ],
   "source": [
    "X.columns"
   ]
  },
  {
   "cell_type": "code",
   "execution_count": 8,
   "metadata": {
    "colab": {
     "base_uri": "https://localhost:8080/"
    },
    "execution": {
     "iopub.execute_input": "2025-10-22T16:07:12.188894Z",
     "iopub.status.busy": "2025-10-22T16:07:12.188226Z",
     "iopub.status.idle": "2025-10-22T16:07:17.597525Z",
     "shell.execute_reply": "2025-10-22T16:07:17.596874Z",
     "shell.execute_reply.started": "2025-10-22T16:07:12.188866Z"
    },
    "id": "KgX34An8w-xu",
    "outputId": "7ccd50df-ed9a-4df7-e6c4-9ebfe606b3be",
    "trusted": true
   },
   "outputs": [
    {
     "name": "stdout",
     "output_type": "stream",
     "text": [
      "\n",
      "Original class sizes: [5283175, 1445673]\n",
      "\n",
      "Balanced class distribution: [1445673 1445673]\n"
     ]
    }
   ],
   "source": [
    "if config.USE_CLASS_WEIGHTS:\n",
    "    X_balanced = X\n",
    "    y_balanced = y\n",
    "\n",
    "    class_weights = compute_class_weight('balanced', classes=np.unique(y_balanced), y=y_balanced)\n",
    "    print(f\"\\nComputed class weights: {class_weights}\")\n",
    "else:\n",
    "    df_combined = pd.concat([X, y.rename('target')], axis=1)\n",
    "\n",
    "    classes = np.unique(y)\n",
    "    class_dfs = [df_combined[df_combined.target == c] for c in classes]\n",
    "\n",
    "    min_samples = min(len(df) for df in class_dfs)\n",
    "    print(f\"\\nOriginal class sizes: {[len(df) for df in class_dfs]}\")\n",
    "\n",
    "    downsampled_dfs = [\n",
    "        resample(df, replace=False, n_samples=min_samples, random_state=42)\n",
    "        for df in class_dfs\n",
    "    ]\n",
    "\n",
    "    df_balanced = pd.concat(downsampled_dfs)\n",
    "\n",
    "    X_balanced = df_balanced.drop(columns=['target'])\n",
    "    y_balanced = df_balanced['target'].values\n",
    "\n",
    "    print(f\"\\nBalanced class distribution: {np.bincount(y_balanced)}\")"
   ]
  },
  {
   "cell_type": "code",
   "execution_count": 9,
   "metadata": {
    "execution": {
     "iopub.execute_input": "2025-10-22T16:07:57.816662Z",
     "iopub.status.busy": "2025-10-22T16:07:57.816091Z",
     "iopub.status.idle": "2025-10-22T16:08:02.271545Z",
     "shell.execute_reply": "2025-10-22T16:08:02.270939Z",
     "shell.execute_reply.started": "2025-10-22T16:07:57.816638Z"
    },
    "id": "eUu4-rN5xm_g",
    "trusted": true
   },
   "outputs": [],
   "source": [
    "X_temp, X_test, y_temp, y_test = train_test_split(\n",
    "    X_balanced, y_balanced,\n",
    "    test_size=config.TEST_SIZE,\n",
    "    random_state=42,\n",
    "    stratify=y_balanced\n",
    ")\n",
    "\n",
    "val_size_adjusted = config.VAL_SIZE / (1 - config.TEST_SIZE)\n",
    "X_train, X_val, y_train, y_val = train_test_split(\n",
    "    X_temp, y_temp,\n",
    "    test_size=val_size_adjusted,\n",
    "    random_state=42,\n",
    "    stratify=y_temp\n",
    ")"
   ]
  },
  {
   "cell_type": "code",
   "execution_count": 10,
   "metadata": {
    "execution": {
     "iopub.execute_input": "2025-10-22T16:08:16.634663Z",
     "iopub.status.busy": "2025-10-22T16:08:16.634131Z",
     "iopub.status.idle": "2025-10-22T16:08:20.580358Z",
     "shell.execute_reply": "2025-10-22T16:08:20.579681Z",
     "shell.execute_reply.started": "2025-10-22T16:08:16.634640Z"
    },
    "id": "You3vA-Sxtzi",
    "trusted": true
   },
   "outputs": [],
   "source": [
    "scaler = StandardScaler()\n",
    "X_train_scaled = scaler.fit_transform(X_train)\n",
    "X_val_scaled = scaler.transform(X_val)\n",
    "X_test_scaled = scaler.transform(X_test)"
   ]
  },
  {
   "cell_type": "code",
   "execution_count": 11,
   "metadata": {
    "execution": {
     "iopub.execute_input": "2025-10-22T16:08:37.495833Z",
     "iopub.status.busy": "2025-10-22T16:08:37.495243Z",
     "iopub.status.idle": "2025-10-22T16:08:37.799099Z",
     "shell.execute_reply": "2025-10-22T16:08:37.798273Z",
     "shell.execute_reply.started": "2025-10-22T16:08:37.495807Z"
    },
    "id": "3xSKgzlmxz6l",
    "trusted": true
   },
   "outputs": [],
   "source": [
    "X_train_tensor = torch.tensor(X_train_scaled, dtype=torch.float32)\n",
    "X_val_tensor = torch.tensor(X_val_scaled, dtype=torch.float32)\n",
    "X_test_tensor = torch.tensor(X_test_scaled, dtype=torch.float32)\n",
    "\n",
    "# Handle both numpy arrays and pandas Series\n",
    "y_train_tensor = torch.tensor(y_train if isinstance(y_train, np.ndarray) else y_train.values, dtype=torch.int64)\n",
    "y_val_tensor = torch.tensor(y_val if isinstance(y_val, np.ndarray) else y_val.values, dtype=torch.int64)\n",
    "y_test_tensor = torch.tensor(y_test if isinstance(y_test, np.ndarray) else y_test.values, dtype=torch.int64)\n",
    "\n",
    "# DataLoaders\n",
    "train_dataset = TensorDataset(X_train_tensor, y_train_tensor)\n",
    "val_dataset = TensorDataset(X_val_tensor, y_val_tensor)\n",
    "test_dataset = TensorDataset(X_test_tensor, y_test_tensor)\n",
    "\n",
    "train_loader = DataLoader(train_dataset, batch_size=config.BATCH_SIZE, shuffle=True)\n",
    "val_loader = DataLoader(val_dataset, batch_size=config.BATCH_SIZE, shuffle=False)\n",
    "test_loader = DataLoader(test_dataset, batch_size=config.BATCH_SIZE, shuffle=False)"
   ]
  },
  {
   "cell_type": "code",
   "execution_count": 12,
   "metadata": {
    "execution": {
     "iopub.execute_input": "2025-10-22T16:08:41.334392Z",
     "iopub.status.busy": "2025-10-22T16:08:41.333882Z",
     "iopub.status.idle": "2025-10-22T16:08:41.343439Z",
     "shell.execute_reply": "2025-10-22T16:08:41.342597Z",
     "shell.execute_reply.started": "2025-10-22T16:08:41.334370Z"
    },
    "id": "4491f3f8",
    "trusted": true
   },
   "outputs": [],
   "source": [
    "class MaliciousURLDetector(nn.Module):\n",
    "    def __init__(self, input_dim, hidden_dims=[512, 256, 128, 64], dropout_rate=0.3, use_batch_norm=True):\n",
    "        super(MaliciousURLDetector, self).__init__()\n",
    "\n",
    "        self.input_dim = input_dim\n",
    "        self.hidden_dims = hidden_dims\n",
    "        self.dropout_rate = dropout_rate\n",
    "        self.use_batch_norm = use_batch_norm\n",
    "\n",
    "        layers = []\n",
    "        prev_dim = input_dim\n",
    "\n",
    "        self.feature_attention = nn.Sequential(\n",
    "            nn.Linear(input_dim, input_dim // 4),\n",
    "            nn.ReLU(),\n",
    "            nn.Linear(input_dim // 4, input_dim),\n",
    "            nn.Sigmoid()\n",
    "        )\n",
    "\n",
    "        for i, hidden_dim in enumerate(hidden_dims):\n",
    "            # Main path\n",
    "            layer_block = []\n",
    "            layer_block.append(nn.Linear(prev_dim, hidden_dim))\n",
    "\n",
    "            if use_batch_norm:\n",
    "                layer_block.append(nn.BatchNorm1d(hidden_dim))\n",
    "\n",
    "            layer_block.append(nn.ReLU())\n",
    "            layer_block.append(nn.Dropout(dropout_rate))\n",
    "\n",
    "            setattr(self, f'layer_{i}', nn.Sequential(*layer_block))\n",
    "\n",
    "            if prev_dim == hidden_dim:\n",
    "                setattr(self, f'residual_{i}', nn.Identity())\n",
    "            else:\n",
    "                setattr(self, f'residual_{i}', nn.Linear(prev_dim, hidden_dim))\n",
    "\n",
    "            prev_dim = hidden_dim\n",
    "\n",
    "        self.output_layer = nn.Linear(hidden_dims[-1], 2)\n",
    "\n",
    "        self._initialize_weights()\n",
    "\n",
    "    def _initialize_weights(self):\n",
    "        \"\"\"weights using Xavier/Glorot\"\"\"\n",
    "        for m in self.modules():\n",
    "            if isinstance(m, nn.Linear):\n",
    "                nn.init.xavier_uniform_(m.weight)\n",
    "                if m.bias is not None:\n",
    "                    nn.init.constant_(m.bias, 0)\n",
    "            elif isinstance(m, nn.BatchNorm1d):\n",
    "                nn.init.constant_(m.weight, 1)\n",
    "                nn.init.constant_(m.bias, 0)\n",
    "\n",
    "    def forward(self, x):\n",
    "        # attention\n",
    "        attention_weights = self.feature_attention(x)\n",
    "        x = x * attention_weights\n",
    "\n",
    "        for i in range(len(self.hidden_dims)):\n",
    "            layer = getattr(self, f'layer_{i}')\n",
    "            residual = getattr(self, f'residual_{i}')\n",
    "\n",
    "            identity = residual(x)\n",
    "            out = layer(x)\n",
    "            x = out + identity  # Residual\n",
    "\n",
    "        x = self.output_layer(x)\n",
    "        return x"
   ]
  },
  {
   "cell_type": "code",
   "execution_count": 13,
   "metadata": {
    "colab": {
     "base_uri": "https://localhost:8080/"
    },
    "execution": {
     "iopub.execute_input": "2025-10-22T16:08:44.728515Z",
     "iopub.status.busy": "2025-10-22T16:08:44.727935Z",
     "iopub.status.idle": "2025-10-22T16:08:44.733302Z",
     "shell.execute_reply": "2025-10-22T16:08:44.732492Z",
     "shell.execute_reply.started": "2025-10-22T16:08:44.728493Z"
    },
    "id": "TBReViFTEIso",
    "outputId": "70348fd9-217e-4dcd-fa8d-4a3daaeaae72",
    "trusted": true
   },
   "outputs": [
    {
     "data": {
      "text/plain": [
       "device(type='cuda')"
      ]
     },
     "execution_count": 13,
     "metadata": {},
     "output_type": "execute_result"
    }
   ],
   "source": [
    "device = torch.device(config.DEVICE)\n",
    "device"
   ]
  },
  {
   "cell_type": "code",
   "execution_count": 14,
   "metadata": {
    "execution": {
     "iopub.execute_input": "2025-10-22T16:08:45.846718Z",
     "iopub.status.busy": "2025-10-22T16:08:45.846189Z",
     "iopub.status.idle": "2025-10-22T16:08:46.081924Z",
     "shell.execute_reply": "2025-10-22T16:08:46.081183Z",
     "shell.execute_reply.started": "2025-10-22T16:08:45.846694Z"
    },
    "id": "-WdFEvTND-dz",
    "trusted": true
   },
   "outputs": [],
   "source": [
    "model = MaliciousURLDetector(input_dim=X_train_tensor.shape[1]).to(device)"
   ]
  },
  {
   "cell_type": "code",
   "execution_count": 15,
   "metadata": {
    "execution": {
     "iopub.execute_input": "2025-10-22T16:08:48.304682Z",
     "iopub.status.busy": "2025-10-22T16:08:48.304142Z",
     "iopub.status.idle": "2025-10-22T16:08:48.311347Z",
     "shell.execute_reply": "2025-10-22T16:08:48.310639Z",
     "shell.execute_reply.started": "2025-10-22T16:08:48.304657Z"
    },
    "id": "3P9E6y-lEH8F",
    "trusted": true
   },
   "outputs": [],
   "source": [
    "def train_epoch(model, loader, criterion, optimizer, device):\n",
    "    model.train()\n",
    "    total_loss = 0\n",
    "    correct = 0\n",
    "    total = 0\n",
    "\n",
    "    for batch_X, batch_y in loader:\n",
    "        batch_X, batch_y = batch_X.to(device), batch_y.to(device)\n",
    "\n",
    "        optimizer.zero_grad()\n",
    "        outputs = model(batch_X)\n",
    "        loss = criterion(outputs, batch_y)\n",
    "        loss.backward()\n",
    "        optimizer.step()\n",
    "\n",
    "        total_loss += loss.item() * batch_X.size(0)\n",
    "        _, predicted = torch.max(outputs, 1)\n",
    "        correct += (predicted == batch_y).sum().item()\n",
    "        total += batch_y.size(0)\n",
    "\n",
    "    avg_loss = total_loss / total\n",
    "    accuracy = correct / total\n",
    "    return avg_loss, accuracy\n",
    "\n",
    "def validate(model, loader, criterion, device):\n",
    "    model.eval()\n",
    "    total_loss = 0\n",
    "    correct = 0\n",
    "    total = 0\n",
    "\n",
    "    with torch.no_grad():\n",
    "        for batch_X, batch_y in loader:\n",
    "            batch_X, batch_y = batch_X.to(device), batch_y.to(device)\n",
    "\n",
    "            outputs = model(batch_X)\n",
    "            loss = criterion(outputs, batch_y)\n",
    "\n",
    "            total_loss += loss.item() * batch_X.size(0)\n",
    "            _, predicted = torch.max(outputs, 1)\n",
    "            correct += (predicted == batch_y).sum().item()\n",
    "            total += batch_y.size(0)\n",
    "\n",
    "    avg_loss = total_loss / total\n",
    "    accuracy = correct / total\n",
    "    return avg_loss, accuracy"
   ]
  },
  {
   "cell_type": "code",
   "execution_count": 16,
   "metadata": {
    "execution": {
     "iopub.execute_input": "2025-10-22T16:08:50.286300Z",
     "iopub.status.busy": "2025-10-22T16:08:50.285769Z",
     "iopub.status.idle": "2025-10-22T16:08:53.232290Z",
     "shell.execute_reply": "2025-10-22T16:08:53.231723Z",
     "shell.execute_reply.started": "2025-10-22T16:08:50.286281Z"
    },
    "id": "MswzznQ5ERfg",
    "trusted": true
   },
   "outputs": [],
   "source": [
    "input_size = X_train_scaled.shape[1]\n",
    "num_classes = len(np.unique(y_balanced))\n",
    "\n",
    "model = MaliciousURLDetector(input_dim=X_train_tensor.shape[1]).to(config.DEVICE)\n",
    "\n",
    "if config.USE_CLASS_WEIGHTS:\n",
    "    class_weights_tensor = torch.tensor(class_weights, dtype=torch.float32).to(config.DEVICE)\n",
    "    criterion = nn.CrossEntropyLoss(weight=class_weights_tensor)\n",
    "else:\n",
    "    criterion = nn.CrossEntropyLoss()\n",
    "\n",
    "optimizer = optim.AdamW(model.parameters(), lr=config.LEARNING_RATE, weight_decay=config.WEIGHT_DECAY)\n",
    "scheduler = optim.lr_scheduler.ReduceLROnPlateau(optimizer, mode='min', factor=0.5, patience=10)"
   ]
  },
  {
   "cell_type": "code",
   "execution_count": 17,
   "metadata": {
    "colab": {
     "base_uri": "https://localhost:8080/"
    },
    "execution": {
     "iopub.execute_input": "2025-10-22T16:08:55.262578Z",
     "iopub.status.busy": "2025-10-22T16:08:55.262101Z",
     "iopub.status.idle": "2025-10-22T17:00:01.100649Z",
     "shell.execute_reply": "2025-10-22T17:00:01.099974Z",
     "shell.execute_reply.started": "2025-10-22T16:08:55.262553Z"
    },
    "id": "WnZ-SeL5EYZj",
    "outputId": "aa374803-c715-4af1-e948-bbc9b2943c64",
    "trusted": true
   },
   "outputs": [
    {
     "name": "stdout",
     "output_type": "stream",
     "text": [
      "Epoch [1/100]\n",
      "  Train Loss: 0.3217 | Train Acc: 0.8702\n",
      "  Val Loss:   0.2906 | Val Acc:   0.8827\n",
      "  LR: 0.001000 | Patience: 0/50\n",
      "Epoch [6/100]\n",
      "  Train Loss: 0.2745 | Train Acc: 0.8908\n",
      "  Val Loss:   0.2692 | Val Acc:   0.8928\n",
      "  LR: 0.001000 | Patience: 0/50\n",
      "Epoch [11/100]\n",
      "  Train Loss: 0.2680 | Train Acc: 0.8937\n",
      "  Val Loss:   0.2620 | Val Acc:   0.8960\n",
      "  LR: 0.001000 | Patience: 0/50\n",
      "Epoch [16/100]\n",
      "  Train Loss: 0.2645 | Train Acc: 0.8953\n",
      "  Val Loss:   0.2590 | Val Acc:   0.8975\n",
      "  LR: 0.001000 | Patience: 0/50\n",
      "Epoch [21/100]\n",
      "  Train Loss: 0.2616 | Train Acc: 0.8966\n",
      "  Val Loss:   0.2624 | Val Acc:   0.8976\n",
      "  LR: 0.001000 | Patience: 3/50\n",
      "Epoch [26/100]\n",
      "  Train Loss: 0.2601 | Train Acc: 0.8973\n",
      "  Val Loss:   0.2565 | Val Acc:   0.8990\n",
      "  LR: 0.001000 | Patience: 0/50\n",
      "Epoch [31/100]\n",
      "  Train Loss: 0.2584 | Train Acc: 0.8982\n",
      "  Val Loss:   0.2550 | Val Acc:   0.8993\n",
      "  LR: 0.001000 | Patience: 1/50\n",
      "Epoch [36/100]\n",
      "  Train Loss: 0.2567 | Train Acc: 0.8989\n",
      "  Val Loss:   0.2516 | Val Acc:   0.9011\n",
      "  LR: 0.001000 | Patience: 0/50\n",
      "Epoch [41/100]\n",
      "  Train Loss: 0.2555 | Train Acc: 0.8994\n",
      "  Val Loss:   0.2528 | Val Acc:   0.9002\n",
      "  LR: 0.001000 | Patience: 5/50\n",
      "Epoch [46/100]\n",
      "  Train Loss: 0.2547 | Train Acc: 0.8999\n",
      "  Val Loss:   0.2501 | Val Acc:   0.9019\n",
      "  LR: 0.001000 | Patience: 0/50\n",
      "Epoch [51/100]\n",
      "  Train Loss: 0.2538 | Train Acc: 0.9000\n",
      "  Val Loss:   0.2512 | Val Acc:   0.9018\n",
      "  LR: 0.001000 | Patience: 5/50\n",
      "Epoch [56/100]\n",
      "  Train Loss: 0.2532 | Train Acc: 0.9004\n",
      "  Val Loss:   0.2494 | Val Acc:   0.9020\n",
      "  LR: 0.001000 | Patience: 0/50\n",
      "Epoch [61/100]\n",
      "  Train Loss: 0.2526 | Train Acc: 0.9006\n",
      "  Val Loss:   0.2492 | Val Acc:   0.9023\n",
      "  LR: 0.001000 | Patience: 1/50\n",
      "Epoch [66/100]\n",
      "  Train Loss: 0.2523 | Train Acc: 0.9009\n",
      "  Val Loss:   0.2497 | Val Acc:   0.9018\n",
      "  LR: 0.001000 | Patience: 6/50\n",
      "Epoch [71/100]\n",
      "  Train Loss: 0.2516 | Train Acc: 0.9011\n",
      "  Val Loss:   0.2482 | Val Acc:   0.9029\n",
      "  LR: 0.001000 | Patience: 0/50\n",
      "Epoch [76/100]\n",
      "  Train Loss: 0.2515 | Train Acc: 0.9012\n",
      "  Val Loss:   0.2487 | Val Acc:   0.9024\n",
      "  LR: 0.001000 | Patience: 3/50\n",
      "Epoch [81/100]\n",
      "  Train Loss: 0.2510 | Train Acc: 0.9014\n",
      "  Val Loss:   0.2478 | Val Acc:   0.9028\n",
      "  LR: 0.001000 | Patience: 0/50\n",
      "Epoch [86/100]\n",
      "  Train Loss: 0.2505 | Train Acc: 0.9016\n",
      "  Val Loss:   0.2479 | Val Acc:   0.9028\n",
      "  LR: 0.001000 | Patience: 2/50\n",
      "Epoch [91/100]\n",
      "  Train Loss: 0.2505 | Train Acc: 0.9016\n",
      "  Val Loss:   0.2471 | Val Acc:   0.9033\n",
      "  LR: 0.001000 | Patience: 0/50\n",
      "Epoch [96/100]\n",
      "  Train Loss: 0.2502 | Train Acc: 0.9019\n",
      "  Val Loss:   0.2477 | Val Acc:   0.9031\n",
      "  LR: 0.001000 | Patience: 5/50\n"
     ]
    }
   ],
   "source": [
    "best_val_loss = float('inf')\n",
    "best_val_acc = 0\n",
    "patience_counter = 0\n",
    "\n",
    "train_losses = []\n",
    "train_accs = []\n",
    "val_losses = []\n",
    "val_accs = []\n",
    "\n",
    "start_time = datetime.now()\n",
    "\n",
    "for epoch in range(config.NUM_EPOCHS):\n",
    "    train_loss, train_acc = train_epoch(model, train_loader, criterion, optimizer, config.DEVICE)\n",
    "    val_loss, val_acc = validate(model, val_loader, criterion, config.DEVICE)\n",
    "\n",
    "    scheduler.step(val_loss)\n",
    "\n",
    "    train_losses.append(train_loss)\n",
    "    train_accs.append(train_acc)\n",
    "    val_losses.append(val_loss)\n",
    "    val_accs.append(val_acc)\n",
    "\n",
    "    # Save best model based on validation loss\n",
    "    if val_loss < best_val_loss:\n",
    "        best_val_loss = val_loss\n",
    "        best_val_acc = val_acc\n",
    "        patience_counter = 0\n",
    "\n",
    "        torch.save({\n",
    "            'epoch': epoch,\n",
    "            'model_state_dict': model.state_dict(),\n",
    "            'optimizer_state_dict': optimizer.state_dict(),\n",
    "            'train_loss': train_loss,\n",
    "            'val_loss': val_loss,\n",
    "            'train_acc': train_acc,\n",
    "            'val_acc': val_acc,\n",
    "        }, 'best_model.pth')\n",
    "    else:\n",
    "        patience_counter += 1\n",
    "\n",
    "    if epoch % 5 == 0:\n",
    "        print(f'Epoch [{epoch+1}/{config.NUM_EPOCHS}]')\n",
    "        print(f'  Train Loss: {train_loss:.4f} | Train Acc: {train_acc:.4f}')\n",
    "        print(f'  Val Loss:   {val_loss:.4f} | Val Acc:   {val_acc:.4f}')\n",
    "        print(f'  LR: {optimizer.param_groups[0][\"lr\"]:.6f} | Patience: {patience_counter}/{config.PATIENCE}')\n",
    "\n",
    "    if patience_counter >= config.PATIENCE:\n",
    "        print(f'\\nEarly stopping at epoch {epoch+1}')\n",
    "        break"
   ]
  },
  {
   "cell_type": "code",
   "execution_count": 18,
   "metadata": {
    "colab": {
     "base_uri": "https://localhost:8080/"
    },
    "execution": {
     "iopub.execute_input": "2025-10-22T17:07:49.683282Z",
     "iopub.status.busy": "2025-10-22T17:07:49.682428Z",
     "iopub.status.idle": "2025-10-22T17:07:49.716700Z",
     "shell.execute_reply": "2025-10-22T17:07:49.715948Z",
     "shell.execute_reply.started": "2025-10-22T17:07:49.683254Z"
    },
    "id": "aaraWnOREl1p",
    "outputId": "2cb207aa-9a0f-444a-b7b1-21494e541bfa",
    "trusted": true
   },
   "outputs": [
    {
     "name": "stdout",
     "output_type": "stream",
     "text": [
      "\n",
      "Training completed in 0:58:54.418269\n",
      "Best validation loss: 0.2471\n",
      "Best validation accuracy: 0.9033\n",
      "\n",
      "Loaded best model from epoch 91\n"
     ]
    }
   ],
   "source": [
    "training_time = datetime.now() - start_time\n",
    "print(f\"\\nTraining completed in {training_time}\")\n",
    "print(f\"Best validation loss: {best_val_loss:.4f}\")\n",
    "print(f\"Best validation accuracy: {best_val_acc:.4f}\")\n",
    "\n",
    "checkpoint = torch.load('best_model.pth')\n",
    "model.load_state_dict(checkpoint['model_state_dict'])\n",
    "print(f\"\\nLoaded best model from epoch {checkpoint['epoch']+1}\")"
   ]
  },
  {
   "cell_type": "code",
   "execution_count": 19,
   "metadata": {
    "colab": {
     "base_uri": "https://localhost:8080/",
     "height": 507
    },
    "execution": {
     "iopub.execute_input": "2025-10-22T17:07:53.369122Z",
     "iopub.status.busy": "2025-10-22T17:07:53.368836Z",
     "iopub.status.idle": "2025-10-22T17:07:54.467481Z",
     "shell.execute_reply": "2025-10-22T17:07:54.466731Z",
     "shell.execute_reply.started": "2025-10-22T17:07:53.369101Z"
    },
    "id": "jWE7pW2YIwqr",
    "outputId": "fd1462d1-2252-4a72-cc06-9060a11a4b09",
    "trusted": true
   },
   "outputs": [
    {
     "data": {
      "image/png": "[encoded data removed]",
      "text/plain": [
       "<Figure size 1500x500 with 2 Axes>"
      ]
     },
     "metadata": {},
     "output_type": "display_data"
    }
   ],
   "source": [
    "plt.figure(figsize=(15, 5))\n",
    "\n",
    "plt.subplot(1, 3, 1)\n",
    "plt.plot(train_losses, label='Train Loss', alpha=0.8)\n",
    "plt.plot(val_losses, label='Val Loss', alpha=0.8)\n",
    "plt.xlabel('Epoch')\n",
    "plt.ylabel('Loss')\n",
    "plt.title('Training and Validation Loss')\n",
    "plt.legend()\n",
    "plt.grid(True, alpha=0.3)\n",
    "\n",
    "plt.subplot(1, 3, 2)\n",
    "plt.plot(train_accs, label='Train Accuracy', alpha=0.8)\n",
    "plt.plot(val_accs, label='Val Accuracy', alpha=0.8)\n",
    "plt.xlabel('Epoch')\n",
    "plt.ylabel('Accuracy')\n",
    "plt.title('Training and Validation Accuracy')\n",
    "plt.legend()\n",
    "plt.grid(True, alpha=0.3)\n",
    "\n",
    "plt.tight_layout()\n",
    "plt.savefig('training_history.png', dpi=300, bbox_inches='tight')\n",
    "plt.show()"
   ]
  },
  {
   "cell_type": "code",
   "execution_count": 20,
   "metadata": {
    "colab": {
     "base_uri": "https://localhost:8080/"
    },
    "execution": {
     "iopub.execute_input": "2025-10-22T17:08:13.634342Z",
     "iopub.status.busy": "2025-10-22T17:08:13.633598Z",
     "iopub.status.idle": "2025-10-22T17:08:20.842788Z",
     "shell.execute_reply": "2025-10-22T17:08:20.841933Z",
     "shell.execute_reply.started": "2025-10-22T17:08:13.634315Z"
    },
    "id": "G3zUchf3IzeT",
    "outputId": "71064303-73e0-4987-f622-098667c2dd9d",
    "trusted": true
   },
   "outputs": [
    {
     "name": "stdout",
     "output_type": "stream",
     "text": [
      "\n",
      "Test Loss: 0.2471\n",
      "Test Accuracy: 0.9028\n"
     ]
    }
   ],
   "source": [
    "test_loss, test_acc = validate(model, test_loader, criterion, config.DEVICE)\n",
    "print(f\"\\nTest Loss: {test_loss:.4f}\")\n",
    "print(f\"Test Accuracy: {test_acc:.4f}\")\n",
    "\n",
    "# Get predictions for detailed metrics\n",
    "model.eval()\n",
    "all_preds = []\n",
    "all_labels = []\n",
    "\n",
    "with torch.no_grad():\n",
    "    for batch_X, batch_y in test_loader:\n",
    "        batch_X = batch_X.to(config.DEVICE)\n",
    "        outputs = model(batch_X)\n",
    "        _, predicted = torch.max(outputs, 1)\n",
    "        all_preds.extend(predicted.cpu().numpy())\n",
    "        all_labels.extend(batch_y.numpy())\n",
    "\n",
    "all_preds = np.array(all_preds)\n",
    "all_labels = np.array(all_labels)"
   ]
  },
  {
   "cell_type": "code",
   "execution_count": 21,
   "metadata": {
    "colab": {
     "base_uri": "https://localhost:8080/",
     "height": 807
    },
    "execution": {
     "iopub.execute_input": "2025-10-22T17:08:20.844221Z",
     "iopub.status.busy": "2025-10-22T17:08:20.843967Z",
     "iopub.status.idle": "2025-10-22T17:08:21.481654Z",
     "shell.execute_reply": "2025-10-22T17:08:21.480901Z",
     "shell.execute_reply.started": "2025-10-22T17:08:20.844198Z"
    },
    "id": "Jbx0x_JwI7cE",
    "outputId": "d6715126-4465-4265-8251-bb3c289f5cb8",
    "trusted": true
   },
   "outputs": [
    {
     "data": {
      "image/png": "[encoded data removed]",
      "text/plain": [
       "<Figure size 1000x800 with 2 Axes>"
      ]
     },
     "metadata": {},
     "output_type": "display_data"
    }
   ],
   "source": [
    "cm = confusion_matrix(all_labels, all_preds)\n",
    "plt.figure(figsize=(10, 8))\n",
    "sns.heatmap(cm, annot=True, fmt='d', cmap='Blues',\n",
    "            xticklabels=np.unique(y_balanced),\n",
    "            yticklabels=np.unique(y_balanced),\n",
    "            cbar_kws={'label': 'Count'})\n",
    "plt.ylabel('Actual', fontsize=12)\n",
    "plt.xlabel('Predicted', fontsize=12)\n",
    "plt.title('Confusion Matrix - Test Set', fontsize=14, fontweight='bold')\n",
    "plt.tight_layout()\n",
    "plt.savefig('confusion_matrix.png', dpi=300, bbox_inches='tight')\n",
    "plt.show()"
   ]
  },
  {
   "cell_type": "code",
   "execution_count": 22,
   "metadata": {
    "execution": {
     "iopub.execute_input": "2025-10-22T17:08:27.729470Z",
     "iopub.status.busy": "2025-10-22T17:08:27.729193Z",
     "iopub.status.idle": "2025-10-22T17:08:27.736723Z",
     "shell.execute_reply": "2025-10-22T17:08:27.735987Z",
     "shell.execute_reply.started": "2025-10-22T17:08:27.729451Z"
    },
    "id": "70lk-LhtJmrm",
    "trusted": true
   },
   "outputs": [],
   "source": [
    "def save_complete_model(model, scaler, config, feature_names, tld_encoder=None, save_dir='./model_artifacts'):\n",
    "    import os\n",
    "    os.makedirs(save_dir, exist_ok=True)\n",
    "\n",
    "    timestamp = datetime.now().strftime('%Y%m%d_%H%M%S')\n",
    "\n",
    "    model_path = f'{save_dir}/model_{timestamp}.pth'\n",
    "    torch.save({\n",
    "        'model_state_dict': model.state_dict(),\n",
    "        'input_dim': model.input_dim,\n",
    "        'hidden_dims': model.hidden_dims,\n",
    "        'dropout_rate': model.dropout_rate,\n",
    "        'use_batch_norm': model.use_batch_norm,\n",
    "    }, model_path)\n",
    "    print(f\"✓ Model saved to: {model_path}\")\n",
    "\n",
    "    scaler_path = f'{save_dir}/scaler_{timestamp}.pkl'\n",
    "    joblib.dump(scaler, scaler_path)\n",
    "    print(f\"✓ Scaler saved to: {scaler_path}\")\n",
    "\n",
    "    feature_path = f'{save_dir}/features_{timestamp}.pkl'\n",
    "    with open(feature_path, 'wb') as f:\n",
    "        pickle.dump(feature_names, f)\n",
    "    print(f\"✓ Features saved to: {feature_path}\")\n",
    "\n",
    "    config_path = f'{save_dir}/config_{timestamp}.pkl'\n",
    "    config_dict = {\n",
    "        'BATCH_SIZE': config.BATCH_SIZE,\n",
    "        'DEVICE': config.DEVICE,\n",
    "        'USE_CLASS_WEIGHTS': config.USE_CLASS_WEIGHTS,\n",
    "    }\n",
    "    with open(config_path, 'wb') as f:\n",
    "        pickle.dump(config_dict, f)\n",
    "    print(f\"✓ Config saved to: {config_path}\")\n",
    "\n",
    "    # Save TLD encoder if provided\n",
    "    tld_path = None\n",
    "    if tld_encoder is not None:\n",
    "        try:\n",
    "            tld_path = f\"{save_dir}/tld_encoder_{timestamp}.pkl\"\n",
    "            joblib.dump(tld_encoder, tld_path)\n",
    "            print(f\"✓ TLD encoder saved to: {tld_path}\")\n",
    "        except Exception as e:\n",
    "            print(f\"⚠ Could not save TLD encoder: {e}\")\n",
    "\n",
    "    return model_path, scaler_path, feature_path, config_path, tld_path"
   ]
  },
  {
   "cell_type": "code",
   "execution_count": 23,
   "metadata": {
    "colab": {
     "base_uri": "https://localhost:8080/"
    },
    "execution": {
     "iopub.execute_input": "2025-10-22T17:08:30.834497Z",
     "iopub.status.busy": "2025-10-22T17:08:30.834228Z",
     "iopub.status.idle": "2025-10-22T17:08:30.848033Z",
     "shell.execute_reply": "2025-10-22T17:08:30.847406Z",
     "shell.execute_reply.started": "2025-10-22T17:08:30.834477Z"
    },
    "id": "O0_JPd73yk83",
    "outputId": "83d7a88b-7454-41e3-e8f1-aa151728fa8e",
    "trusted": true
   },
   "outputs": [
    {
     "name": "stdout",
     "output_type": "stream",
     "text": [
      "✓ Model saved to: ./model_artifacts/model_20251022_170830.pth\n",
      "✓ Scaler saved to: ./model_artifacts/scaler_20251022_170830.pkl\n",
      "✓ Features saved to: ./model_artifacts/features_20251022_170830.pkl\n",
      "✓ Config saved to: ./model_artifacts/config_20251022_170830.pkl\n",
      "\n",
      "Saved artifacts:\n",
      "  model_path: ./model_artifacts/model_20251022_170830.pth\n",
      "  scaler_path: ./model_artifacts/scaler_20251022_170830.pkl\n",
      "  feature_path: ./model_artifacts/features_20251022_170830.pkl\n",
      "  config_path: ./model_artifacts/config_20251022_170830.pkl\n"
     ]
    }
   ],
   "source": [
    "feature_names = X.columns.tolist()\n",
    "\n",
    "model_path, scaler_path, feature_path, config_path, tld_path = save_complete_model(model, scaler, config, feature_names)\n",
    "print('\\nSaved artifacts:')\n",
    "print('  model_path:', model_path)\n",
    "print('  scaler_path:', scaler_path)\n",
    "print('  feature_path:', feature_path)\n",
    "print('  config_path:', config_path)"
   ]
  },
  {
   "cell_type": "code",
   "execution_count": 30,
   "metadata": {
    "execution": {
     "iopub.execute_input": "2025-10-22T17:11:11.956358Z",
     "iopub.status.busy": "2025-10-22T17:11:11.955617Z",
     "iopub.status.idle": "2025-10-22T17:11:11.961423Z",
     "shell.execute_reply": "2025-10-22T17:11:11.960649Z",
     "shell.execute_reply.started": "2025-10-22T17:11:11.956332Z"
    },
    "id": "PQO3WfDYy03h",
    "trusted": true
   },
   "outputs": [],
   "source": [
    "def load_model_for_prediction(model_path, scaler_path, feature_path, config_path):\n",
    "    checkpoint = torch.load(model_path, map_location='cpu')\n",
    "\n",
    "    model = MaliciousURLDetector(\n",
    "        input_dim=checkpoint['input_dim'],\n",
    "        hidden_dims=checkpoint['hidden_dims'],\n",
    "        dropout_rate=checkpoint['dropout_rate'],\n",
    "        use_batch_norm=checkpoint['use_batch_norm']\n",
    "    )\n",
    "    model.load_state_dict(checkpoint['model_state_dict'])\n",
    "    model.eval()\n",
    "\n",
    "    scaler = joblib.load(scaler_path)\n",
    "\n",
    "    with open(feature_path, 'rb') as f:\n",
    "        feature_names = pickle.load(f)\n",
    "\n",
    "    with open(config_path, 'rb') as f:\n",
    "        config_dict = pickle.load(f)\n",
    "\n",
    "    print(\"Model loaded successfully!\")\n",
    "    return model, scaler, feature_names, config_dict"
   ]
  },
  {
   "cell_type": "code",
   "execution_count": 31,
   "metadata": {
    "execution": {
     "iopub.execute_input": "2025-10-22T17:11:13.019128Z",
     "iopub.status.busy": "2025-10-22T17:11:13.018574Z",
     "iopub.status.idle": "2025-10-22T17:11:13.041141Z",
     "shell.execute_reply": "2025-10-22T17:11:13.040448Z",
     "shell.execute_reply.started": "2025-10-22T17:11:13.019104Z"
    },
    "id": "v4UkCCBNz2a0",
    "trusted": true
   },
   "outputs": [
    {
     "name": "stdout",
     "output_type": "stream",
     "text": [
      "Model loaded successfully!\n"
     ]
    }
   ],
   "source": [
    "model, scaler, feature_names, config_dict = load_model_for_prediction(r\"/kaggle/working/model_artifacts/model_20251022_170830.pth\", \n",
    "                                                                     r\"/kaggle/working/model_artifacts/scaler_20251022_170830.pkl\",\n",
    "                                                                     r\"/kaggle/working/model_artifacts/features_20251022_170830.pkl\",\n",
    "                                                                     r\"/kaggle/working/model_artifacts/config_20251022_170830.pkl\")\n",
    "\n",
    "def predict_urls(model, scaler, feature_names, new_data, device='cpu'):\n",
    "    model.to(device)\n",
    "    model.eval()\n",
    "\n",
    "    if isinstance(new_data, pd.DataFrame):\n",
    "        new_data = new_data[feature_names]\n",
    "\n",
    "    X_scaled = scaler.transform(new_data)\n",
    "\n",
    "    X_tensor = torch.tensor(X_scaled, dtype=torch.float32).to(device)\n",
    "\n",
    "    with torch.no_grad():\n",
    "        outputs = model(X_tensor)\n",
    "        probabilities = F.softmax(outputs, dim=1)\n",
    "        _, predictions = torch.max(outputs, 1)\n",
    "\n",
    "    return predictions.cpu().numpy(), probabilities.cpu().numpy()"
   ]
  },
  {
   "cell_type": "code",
   "execution_count": 32,
   "metadata": {
    "execution": {
     "iopub.execute_input": "2025-10-22T17:11:59.632113Z",
     "iopub.status.busy": "2025-10-22T17:11:59.631830Z",
     "iopub.status.idle": "2025-10-22T17:12:00.391842Z",
     "shell.execute_reply": "2025-10-22T17:12:00.390970Z",
     "shell.execute_reply.started": "2025-10-22T17:11:59.632094Z"
    },
    "id": "e_VYzxaH0P5S",
    "trusted": true
   },
   "outputs": [
    {
     "name": "stdout",
     "output_type": "stream",
     "text": [
      "Predictions shape: (433702,)\n",
      "First 10 predictions: [1 0 1 0 1 1 1 1 0 0]\n",
      "Probability of malicious (class 1): [0.7729455  0.07690141 0.9578044  0.16206503 0.9999901  1.\n",
      " 0.99994564 0.9998024  0.4697353  0.35624415]\n"
     ]
    }
   ],
   "source": [
    "predictions, probabilities = predict_urls(\n",
    "    model, scaler, feature_names, X_test, device=config.DEVICE\n",
    ")\n",
    "\n",
    "print(f\"Predictions shape: {predictions.shape}\")\n",
    "print(f\"First 10 predictions: {predictions[:10]}\")\n",
    "print(f\"Probability of malicious (class 1): {probabilities[:10, 1]}\")"
   ]
  },
  {
   "cell_type": "code",
   "execution_count": 35,
   "metadata": {
    "execution": {
     "iopub.execute_input": "2025-10-22T17:12:39.010791Z",
     "iopub.status.busy": "2025-10-22T17:12:39.010347Z",
     "iopub.status.idle": "2025-10-22T17:12:39.022847Z",
     "shell.execute_reply": "2025-10-22T17:12:39.022112Z",
     "shell.execute_reply.started": "2025-10-22T17:12:39.010754Z"
    },
    "trusted": true
   },
   "outputs": [
    {
     "name": "stdout",
     "output_type": "stream",
     "text": [
      "Prediction: Malicious\n",
      "Confidence: 0.9578\n",
      "Malicious probability: 0.9578\n"
     ]
    }
   ],
   "source": [
    "single_sample = X_test.iloc[[2]]\n",
    "pred, prob = predict_urls(model, scaler, feature_names, single_sample, device=config.DEVICE)\n",
    "print(f\"Prediction: {'Malicious' if pred[0] == 1 else 'Benign'}\")\n",
    "print(f\"Confidence: {prob[0][pred[0]]:.4f}\")\n",
    "print(f\"Malicious probability: {prob[0][1]:.4f}\")"
   ]
  },
  {
   "cell_type": "code",
   "execution_count": null,
   "metadata": {
    "trusted": true
   },
   "outputs": [],
   "source": []
  }
 ],
 "metadata": {
  "accelerator": "GPU",
  "colab": {
   "gpuType": "T4",
   "provenance": []
  },
  "kaggle": {
   "accelerator": "nvidiaTeslaT4",
   "dataSources": [
    {
     "datasetId": 4441201,
     "sourceId": 7624364,
     "sourceType": "datasetVersion"
    }
   ],
   "dockerImageVersionId": 31154,
   "isGpuEnabled": true,
   "isInternetEnabled": true,
   "language": "python",
   "sourceType": "notebook"
  },
  "kernelspec": {
   "display_name": "Python 3",
   "language": "python",
   "name": "python3"
  },
  "language_info": {
   "codemirror_mode": {
    "name": "ipython",
    "version": 3
   },
   "file_extension": ".py",
   "mimetype": "text/x-python",
   "name": "python",
   "nbconvert_exporter": "python",
   "pygments_lexer": "ipython3",
   "version": "3.12.8"
  }
 },
 "nbformat": 4,
 "nbformat_minor": 4
}
